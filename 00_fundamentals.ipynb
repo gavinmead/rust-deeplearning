{
 "cells": [
  {
   "cell_type": "markdown",
   "id": "e1d1949d-554b-4ed3-8d20-32488377e836",
   "metadata": {},
   "source": [
    "### Installing Candle Core"
   ]
  },
  {
   "cell_type": "code",
   "execution_count": 2,
   "id": "9e34d887-4bcc-4298-91e1-97acdde5b3ed",
   "metadata": {},
   "outputs": [],
   "source": [
    ":dep candle-core = \"0.8.1\""
   ]
  },
  {
   "cell_type": "code",
   "execution_count": 81,
   "id": "4738c74f-e06c-4c8c-b1d6-e1623a6c092b",
   "metadata": {},
   "outputs": [],
   "source": [
    "use candle_core::{Device, Tensor};\n",
    "let device = Device::Cpu;"
   ]
  },
  {
   "cell_type": "markdown",
   "id": "24e0dd37-2073-4c2f-98c7-bc235b91e65f",
   "metadata": {},
   "source": [
    "### Create a Scalar Tensor"
   ]
  },
  {
   "cell_type": "code",
   "execution_count": 82,
   "id": "19f4bf61-5f80-4bcd-a40c-56eb2cc2bc3f",
   "metadata": {},
   "outputs": [],
   "source": [
    "let scalar = Tensor::new(7.0, &device).unwrap();"
   ]
  },
  {
   "cell_type": "code",
   "execution_count": 83,
   "id": "087075e8-97a0-434b-b31b-404265c4981d",
   "metadata": {},
   "outputs": [
    {
     "name": "stdout",
     "output_type": "stream",
     "text": [
      "[7.]\n",
      "Tensor[[], f64]\n"
     ]
    }
   ],
   "source": [
    "println!(\"{}\", scalar);"
   ]
  },
  {
   "cell_type": "markdown",
   "id": "8e14ad6a-654b-41c0-b473-b8950140d45b",
   "metadata": {},
   "source": [
    "From the [docs](https://docs.rs/candle-core/0.8.1/candle_core/shape/struct.Shape.html) \n",
    "```bash\n",
    "The rank is the number of dimensions, 0 for a scalar value, 1 for a vector, etc.\n",
    "```"
   ]
  },
  {
   "cell_type": "code",
   "execution_count": 91,
   "id": "f2756d8f-519e-4d42-9420-adc605e13e37",
   "metadata": {},
   "outputs": [
    {
     "name": "stdout",
     "output_type": "stream",
     "text": [
      "Dimensions: 0\n"
     ]
    }
   ],
   "source": [
    "println!(\"Dimensions: {}\", scalar.shape().rank());"
   ]
  },
  {
   "cell_type": "markdown",
   "id": "d7cb9ed3-9d49-4a65-8ad7-0d8e043fb84f",
   "metadata": {},
   "source": [
    "### Create a "
   ]
  },
  {
   "cell_type": "code",
   "execution_count": 65,
   "id": "695b3aa2-4367-4d0b-9be2-9d5809e614c3",
   "metadata": {},
   "outputs": [],
   "source": [
    "let vector = Tensor::new(&[7.0, 7.0], &device).unwrap();"
   ]
  },
  {
   "cell_type": "code",
   "execution_count": 66,
   "id": "e03562b3-4999-47e7-ac74-b98ba6eb302d",
   "metadata": {},
   "outputs": [
    {
     "name": "stdout",
     "output_type": "stream",
     "text": [
      "[7., 7.]\n",
      "Tensor[[2], f64]\n"
     ]
    }
   ],
   "source": [
    "println!(\"{}\", vector);"
   ]
  },
  {
   "cell_type": "markdown",
   "id": "06e68425-6745-451a-8914-7897e95ce40f",
   "metadata": {},
   "source": [
    "Check the dimensions"
   ]
  },
  {
   "cell_type": "code",
   "execution_count": 92,
   "id": "615da6bd-699b-441c-9ef2-12ef74ba2676",
   "metadata": {},
   "outputs": [
    {
     "name": "stdout",
     "output_type": "stream",
     "text": [
      "Dimensions: 1\n"
     ]
    }
   ],
   "source": [
    "println!(\"Dimensions: {}\", vector.shape().rank());"
   ]
  },
  {
   "cell_type": "markdown",
   "id": "a0d853c9-dd0c-445d-9320-aca1f6c07338",
   "metadata": {},
   "source": [
    "### Create a Matrix"
   ]
  },
  {
   "cell_type": "code",
   "execution_count": 67,
   "id": "873e0435-084e-46df-a07f-1368cd580240",
   "metadata": {},
   "outputs": [],
   "source": [
    "let matrix = Tensor::new(&[[7.0, 8.0],[9.0,10.0]], &device).unwrap();"
   ]
  },
  {
   "cell_type": "code",
   "execution_count": 68,
   "id": "85322a51-ff67-4515-9893-16cd5eea1270",
   "metadata": {},
   "outputs": [
    {
     "name": "stdout",
     "output_type": "stream",
     "text": [
      "[[ 7.,  8.],\n",
      " [ 9., 10.]]\n",
      "Tensor[[2, 2], f64]\n"
     ]
    }
   ],
   "source": [
    "println!(\"{}\", matrix);"
   ]
  },
  {
   "cell_type": "code",
   "execution_count": 93,
   "id": "0f9ac9a1-0b10-4f50-9e81-45f7560f659a",
   "metadata": {},
   "outputs": [
    {
     "name": "stdout",
     "output_type": "stream",
     "text": [
      "Dimensions: 2\n"
     ]
    }
   ],
   "source": [
    "println!(\"Dimensions: {}\", matrix.shape().rank());"
   ]
  },
  {
   "cell_type": "markdown",
   "id": "4c264a11-a7fa-4695-ab79-82c33dea8ccd",
   "metadata": {},
   "source": [
    "### Create a Tensor"
   ]
  },
  {
   "cell_type": "code",
   "execution_count": 95,
   "id": "38d0823e-c74e-4d31-a052-05cfacdd673d",
   "metadata": {},
   "outputs": [],
   "source": [
    "let tensor = Tensor::new(&[[[1.0, 2.0, 3.0],\n",
    "                            [3.0, 6.0, 9.0],\n",
    "                            [2.0, 4.0, 5.0]\n",
    "                           ]], &device).unwrap();"
   ]
  },
  {
   "cell_type": "code",
   "execution_count": 96,
   "id": "b5e9a100-36f7-4e31-a871-b7ce4dd6ae71",
   "metadata": {},
   "outputs": [
    {
     "name": "stdout",
     "output_type": "stream",
     "text": [
      "[[[1., 2., 3.],\n",
      "  [3., 6., 9.],\n",
      "  [2., 4., 5.]]]\n",
      "Tensor[[1, 3, 3], f64]\n"
     ]
    }
   ],
   "source": [
    "println!(\"{}\", tensor);"
   ]
  },
  {
   "cell_type": "code",
   "execution_count": 97,
   "id": "84d676e2-bcbc-46bc-a34c-3928d8e90d93",
   "metadata": {},
   "outputs": [
    {
     "name": "stdout",
     "output_type": "stream",
     "text": [
      "Dimensions: 3\n"
     ]
    }
   ],
   "source": [
    "println!(\"Dimensions: {}\", tensor.shape().rank());"
   ]
  },
  {
   "cell_type": "code",
   "execution_count": null,
   "id": "d191dcd4-3e40-4582-959a-6b4643094579",
   "metadata": {},
   "outputs": [],
   "source": []
  }
 ],
 "metadata": {
  "kernelspec": {
   "display_name": "Rust",
   "language": "rust",
   "name": "rust"
  },
  "language_info": {
   "codemirror_mode": "rust",
   "file_extension": ".rs",
   "mimetype": "text/rust",
   "name": "Rust",
   "pygment_lexer": "rust",
   "version": ""
  }
 },
 "nbformat": 4,
 "nbformat_minor": 5
}
