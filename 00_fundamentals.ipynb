{
 "cells": [
  {
   "cell_type": "markdown",
   "id": "e1d1949d-554b-4ed3-8d20-32488377e836",
   "metadata": {},
   "source": [
    "### Installing Candle Core"
   ]
  },
  {
   "cell_type": "code",
   "execution_count": 3,
   "id": "9e34d887-4bcc-4298-91e1-97acdde5b3ed",
   "metadata": {},
   "outputs": [],
   "source": [
    ":dep candle-core = \"0.9.1\""
   ]
  },
  {
   "cell_type": "code",
   "execution_count": 4,
   "id": "4738c74f-e06c-4c8c-b1d6-e1623a6c092b",
   "metadata": {},
   "outputs": [],
   "source": [
    "use candle_core::{Device, Tensor, DType};\n",
    "let device = Device::Cpu;"
   ]
  },
  {
   "cell_type": "markdown",
   "id": "24e0dd37-2073-4c2f-98c7-bc235b91e65f",
   "metadata": {},
   "source": [
    "### Create a Scalar Tensor"
   ]
  },
  {
   "cell_type": "code",
   "execution_count": 5,
   "id": "19f4bf61-5f80-4bcd-a40c-56eb2cc2bc3f",
   "metadata": {},
   "outputs": [],
   "source": [
    "let scalar = Tensor::new(7.0, &device).unwrap();"
   ]
  },
  {
   "cell_type": "code",
   "execution_count": 6,
   "id": "087075e8-97a0-434b-b31b-404265c4981d",
   "metadata": {},
   "outputs": [
    {
     "name": "stdout",
     "output_type": "stream",
     "text": [
      "[7.]\n",
      "Tensor[[], f64]\n"
     ]
    }
   ],
   "source": [
    "println!(\"{}\", scalar);"
   ]
  },
  {
   "cell_type": "markdown",
   "id": "8e14ad6a-654b-41c0-b473-b8950140d45b",
   "metadata": {},
   "source": [
    "From the [docs](https://docs.rs/candle-core/0.8.1/candle_core/shape/struct.Shape.html) \n",
    "```bash\n",
    "The rank is the number of dimensions, 0 for a scalar value, 1 for a vector, etc.\n",
    "```"
   ]
  },
  {
   "cell_type": "code",
   "execution_count": 7,
   "id": "f2756d8f-519e-4d42-9420-adc605e13e37",
   "metadata": {},
   "outputs": [
    {
     "name": "stdout",
     "output_type": "stream",
     "text": [
      "Dimensions: 0\n"
     ]
    }
   ],
   "source": [
    "println!(\"Dimensions: {}\", scalar.rank());"
   ]
  },
  {
   "cell_type": "markdown",
   "id": "d7cb9ed3-9d49-4a65-8ad7-0d8e043fb84f",
   "metadata": {},
   "source": [
    "### Create a Vector"
   ]
  },
  {
   "cell_type": "code",
   "execution_count": 8,
   "id": "695b3aa2-4367-4d0b-9be2-9d5809e614c3",
   "metadata": {},
   "outputs": [],
   "source": [
    "let vector = Tensor::new(&[7.0, 7.0], &device).unwrap();"
   ]
  },
  {
   "cell_type": "code",
   "execution_count": 9,
   "id": "e03562b3-4999-47e7-ac74-b98ba6eb302d",
   "metadata": {},
   "outputs": [
    {
     "name": "stdout",
     "output_type": "stream",
     "text": [
      "[7., 7.]\n",
      "Tensor[[2], f64]\n"
     ]
    }
   ],
   "source": [
    "println!(\"{}\", vector);"
   ]
  },
  {
   "cell_type": "markdown",
   "id": "06e68425-6745-451a-8914-7897e95ce40f",
   "metadata": {},
   "source": [
    "Check the dimensions"
   ]
  },
  {
   "cell_type": "code",
   "execution_count": 10,
   "id": "615da6bd-699b-441c-9ef2-12ef74ba2676",
   "metadata": {},
   "outputs": [
    {
     "name": "stdout",
     "output_type": "stream",
     "text": [
      "Dimensions: 1\n"
     ]
    }
   ],
   "source": [
    "println!(\"Dimensions: {}\", vector.rank());"
   ]
  },
  {
   "cell_type": "markdown",
   "id": "a0d853c9-dd0c-445d-9320-aca1f6c07338",
   "metadata": {},
   "source": [
    "### Create a Matrix"
   ]
  },
  {
   "cell_type": "code",
   "execution_count": 11,
   "id": "873e0435-084e-46df-a07f-1368cd580240",
   "metadata": {},
   "outputs": [],
   "source": [
    "let matrix = Tensor::new(&[[7.0, 8.0],[9.0,10.0]], &device).unwrap();"
   ]
  },
  {
   "cell_type": "code",
   "execution_count": 12,
   "id": "85322a51-ff67-4515-9893-16cd5eea1270",
   "metadata": {},
   "outputs": [
    {
     "name": "stdout",
     "output_type": "stream",
     "text": [
      "[[ 7.,  8.],\n",
      " [ 9., 10.]]\n",
      "Tensor[[2, 2], f64]\n"
     ]
    }
   ],
   "source": [
    "println!(\"{}\", matrix);"
   ]
  },
  {
   "cell_type": "code",
   "execution_count": 13,
   "id": "0f9ac9a1-0b10-4f50-9e81-45f7560f659a",
   "metadata": {},
   "outputs": [
    {
     "name": "stdout",
     "output_type": "stream",
     "text": [
      "Dimensions: 2\n"
     ]
    }
   ],
   "source": [
    "println!(\"Dimensions: {}\", matrix.rank());"
   ]
  },
  {
   "cell_type": "markdown",
   "id": "4c264a11-a7fa-4695-ab79-82c33dea8ccd",
   "metadata": {},
   "source": [
    "### Create a Tensor"
   ]
  },
  {
   "cell_type": "code",
   "execution_count": 15,
   "id": "38d0823e-c74e-4d31-a052-05cfacdd673d",
   "metadata": {},
   "outputs": [],
   "source": [
    "let tensor = Tensor::new(&[[[1.0, 2.0, 3.0],\n",
    "                            [3.0, 6.0, 9.0],\n",
    "                            [2.0, 4.0, 5.0]\n",
    "                           ]], &device).unwrap();"
   ]
  },
  {
   "cell_type": "code",
   "execution_count": 16,
   "id": "b5e9a100-36f7-4e31-a871-b7ce4dd6ae71",
   "metadata": {},
   "outputs": [
    {
     "name": "stdout",
     "output_type": "stream",
     "text": [
      "[[[1., 2., 3.],\n",
      "  [3., 6., 9.],\n",
      "  [2., 4., 5.]]]\n",
      "Tensor[[1, 3, 3], f64]\n"
     ]
    }
   ],
   "source": [
    "println!(\"{}\", tensor);"
   ]
  },
  {
   "cell_type": "code",
   "execution_count": 17,
   "id": "84d676e2-bcbc-46bc-a34c-3928d8e90d93",
   "metadata": {},
   "outputs": [
    {
     "name": "stdout",
     "output_type": "stream",
     "text": [
      "Dimensions: 3\n"
     ]
    }
   ],
   "source": [
    "println!(\"Dimensions: {}\", tensor.rank());"
   ]
  },
  {
   "cell_type": "markdown",
   "id": "42e781bb-162b-4ac8-93a1-867f57710a80",
   "metadata": {},
   "source": [
    "### Creating Random Tensors\n",
    "\n",
    "A little more verbose than pytorch, but still useful"
   ]
  },
  {
   "cell_type": "code",
   "execution_count": 18,
   "id": "a417834d-b3ae-4f57-9158-0eab3158cbe1",
   "metadata": {},
   "outputs": [],
   "source": [
    "let random_tensor = Tensor::rand(0.0f32, 1.0f32, (3,4), &device)?;"
   ]
  },
  {
   "cell_type": "code",
   "execution_count": 19,
   "id": "ac5f0ff4-321d-428f-9f65-e15dbc421e28",
   "metadata": {},
   "outputs": [
    {
     "name": "stdout",
     "output_type": "stream",
     "text": [
      "[[0.5244, 0.1145, 0.3372, 0.0047],\n",
      " [0.8368, 0.5820, 0.8432, 0.0244],\n",
      " [0.2576, 0.8020, 0.3232, 0.6350]]\n",
      "Tensor[[3, 4], f32]\n"
     ]
    }
   ],
   "source": [
    "println!(\"{}\", random_tensor);"
   ]
  },
  {
   "cell_type": "markdown",
   "id": "ab522d21-500d-4eac-8251-4a1d88445c27",
   "metadata": {},
   "source": [
    "Create a random tensor that follows the common image shape of [224,224, 3] ([height, width, color_channels])"
   ]
  },
  {
   "cell_type": "code",
   "execution_count": 20,
   "id": "c6e6c161-7fa5-4b13-a43b-39aaff84cc4b",
   "metadata": {},
   "outputs": [],
   "source": [
    "let random_image_tensor = Tensor::rand(0.0f32, 1.0f32, (224, 224, 3), &device)?;"
   ]
  },
  {
   "cell_type": "code",
   "execution_count": 21,
   "id": "df18c911-17bf-4c12-9c62-48963f067e01",
   "metadata": {},
   "outputs": [
    {
     "name": "stdout",
     "output_type": "stream",
     "text": [
      "Dimensions: 3\n"
     ]
    }
   ],
   "source": [
    "println!(\"Dimensions: {}\", random_image_tensor.shape().rank());"
   ]
  },
  {
   "cell_type": "markdown",
   "id": "9628b887-e39f-4500-a4b1-e864d096278f",
   "metadata": {},
   "source": [
    "### Zeros and Ones\n",
    "\n",
    "Syntax is generally the same, but you have to specify a DType"
   ]
  },
  {
   "cell_type": "code",
   "execution_count": 22,
   "id": "abda74f9-7f7b-4269-8e51-90f9ccd1d236",
   "metadata": {},
   "outputs": [],
   "source": [
    "let zeros = Tensor::zeros((3,4), DType::F32, &device)?;"
   ]
  },
  {
   "cell_type": "code",
   "execution_count": 23,
   "id": "38c12506-2afe-494d-b8df-d8e19e812e38",
   "metadata": {},
   "outputs": [
    {
     "name": "stdout",
     "output_type": "stream",
     "text": [
      "[[0., 0., 0., 0.],\n",
      " [0., 0., 0., 0.],\n",
      " [0., 0., 0., 0.]]\n",
      "Tensor[[3, 4], f32]\n"
     ]
    }
   ],
   "source": [
    "println!(\"{}\", zeros);"
   ]
  },
  {
   "cell_type": "code",
   "execution_count": 24,
   "id": "5131eb3d-8f7d-42e3-b756-3278259caf78",
   "metadata": {},
   "outputs": [
    {
     "name": "stdout",
     "output_type": "stream",
     "text": [
      "DType: F32\n"
     ]
    }
   ],
   "source": [
    "println!(\"DType: {:?}\", zeros.dtype());"
   ]
  },
  {
   "cell_type": "code",
   "execution_count": 25,
   "id": "1b8efb3b-7a94-454b-9383-fff1f88cb9ee",
   "metadata": {},
   "outputs": [],
   "source": [
    "let ones = Tensor::ones((3,4), DType::F32, &device)?;"
   ]
  },
  {
   "cell_type": "code",
   "execution_count": 26,
   "id": "ecdf5eb2-3024-45fd-bb61-c8eb99f06090",
   "metadata": {},
   "outputs": [
    {
     "name": "stdout",
     "output_type": "stream",
     "text": [
      "[[1., 1., 1., 1.],\n",
      " [1., 1., 1., 1.],\n",
      " [1., 1., 1., 1.]]\n",
      "Tensor[[3, 4], f32]\n"
     ]
    }
   ],
   "source": [
    "println!(\"{}\", ones);"
   ]
  },
  {
   "cell_type": "code",
   "execution_count": 27,
   "id": "08692f07-0799-4e7e-ad63-1af802faf806",
   "metadata": {},
   "outputs": [
    {
     "name": "stdout",
     "output_type": "stream",
     "text": [
      "DType: F32\n"
     ]
    }
   ],
   "source": [
    "println!(\"DType: {:?}\", ones.dtype());"
   ]
  },
  {
   "cell_type": "markdown",
   "id": "bf8072e0-07c5-4c33-91d6-e93f9636fa63",
   "metadata": {},
   "source": [
    "### Creating a range and tensors..."
   ]
  },
  {
   "cell_type": "code",
   "execution_count": 28,
   "id": "5ea332a2-2a5e-4c4b-b02e-f2d9118741dd",
   "metadata": {},
   "outputs": [],
   "source": [
    "let zero_to_ten = Tensor::arange_step(0., 10., 1., &device)?; "
   ]
  },
  {
   "cell_type": "code",
   "execution_count": 29,
   "id": "0bed2c62-7f3f-4565-bd9a-4238b438a9bc",
   "metadata": {},
   "outputs": [
    {
     "name": "stdout",
     "output_type": "stream",
     "text": [
      "[0., 1., 2., 3., 4., 5., 6., 7., 8., 9.]\n",
      "Tensor[[10], f64]\n"
     ]
    }
   ],
   "source": [
    "println!(\"{}\", zero_to_ten);"
   ]
  },
  {
   "cell_type": "markdown",
   "id": "76b1a58d-05b7-4f4b-99fe-f079eaa0f177",
   "metadata": {},
   "source": [
    "You can also create a zero of zeroes based on existing tensor input"
   ]
  },
  {
   "cell_type": "code",
   "execution_count": 30,
   "id": "47e49c42-71a0-4d9d-991f-f5f96c75b8e8",
   "metadata": {},
   "outputs": [],
   "source": [
    "let ten_zeros = zero_to_ten.zeros_like()?;"
   ]
  },
  {
   "cell_type": "code",
   "execution_count": 31,
   "id": "3bf3ec79-fdfa-4840-b030-7d2a36603f64",
   "metadata": {},
   "outputs": [
    {
     "name": "stdout",
     "output_type": "stream",
     "text": [
      "[0., 0., 0., 0., 0., 0., 0., 0., 0., 0.]\n",
      "Tensor[[10], f64]\n"
     ]
    }
   ],
   "source": [
    "println!(\"{}\", ten_zeros);"
   ]
  },
  {
   "cell_type": "markdown",
   "id": "8d181147-b725-46a9-af3e-453212333c3c",
   "metadata": {},
   "source": [
    "### Getting information from Tensors"
   ]
  },
  {
   "cell_type": "code",
   "execution_count": 32,
   "id": "078aa923-79f9-4cc0-8cf7-c64a1b957d16",
   "metadata": {},
   "outputs": [],
   "source": [
    "let some_tensor = Tensor::rand(0.0f32, 1.0f32, (3,4), &device)?;"
   ]
  },
  {
   "cell_type": "code",
   "execution_count": 33,
   "id": "5dbd2f02-d239-4b37-830e-5c75d97e738b",
   "metadata": {},
   "outputs": [
    {
     "name": "stdout",
     "output_type": "stream",
     "text": [
      "[[0.2916, 0.5852, 0.7704, 0.2516],\n",
      " [0.8575, 0.8356, 0.5071, 0.1738],\n",
      " [0.6157, 0.6746, 0.5973, 0.5041]]\n",
      "Tensor[[3, 4], f32]\n",
      "Shape of tensor: [3, 4]\n",
      "Datatype of tensor: F32\n",
      "Device tensor is stored on: Cpu\n"
     ]
    }
   ],
   "source": [
    "println!(\"{}\", some_tensor);\n",
    "println!(\"Shape of tensor: {:?}\", some_tensor.shape());\n",
    "println!(\"Datatype of tensor: {:?}\", some_tensor.dtype()); \n",
    "println!(\"Device tensor is stored on: {:?}\", some_tensor.device());"
   ]
  },
  {
   "cell_type": "markdown",
   "id": "7b9793ad-d918-4c89-a3f9-469f357f1937",
   "metadata": {},
   "source": [
    "### Manipulating Tensors"
   ]
  },
  {
   "cell_type": "markdown",
   "id": "1bdeb2c3-b84c-46a3-9f87-c44aa03ac17f",
   "metadata": {},
   "source": [
    "#### Basic Operations"
   ]
  },
  {
   "cell_type": "markdown",
   "id": "970baca3-79f3-4fdf-a14f-3e9954c8e754",
   "metadata": {},
   "source": [
    "Multiply a tensor by 10.  The tensor needs to be mutable.  \n",
    "\n",
    "TODO:  It does not look like you can update in place"
   ]
  },
  {
   "cell_type": "code",
   "execution_count": 38,
   "id": "69a4b97e-4b0a-4143-81d9-097521a9d43d",
   "metadata": {},
   "outputs": [
    {
     "name": "stdout",
     "output_type": "stream",
     "text": [
      "[11., 12., 13.]\n",
      "Tensor[[3], f64]\n"
     ]
    }
   ],
   "source": [
    "let mut add_tensor = Tensor::new(&[1.0, 2.0, 3.0], &device).unwrap();\n",
    "add_tensor = (add_tensor + 10.0)?;\n",
    "println!(\"{}\", add_tensor);"
   ]
  },
  {
   "cell_type": "code",
   "execution_count": 39,
   "id": "9298b017-6fc4-47c7-a4e8-ea60e097c81c",
   "metadata": {},
   "outputs": [
    {
     "name": "stdout",
     "output_type": "stream",
     "text": [
      "[10., 20., 30.]\n",
      "Tensor[[3], f64]\n"
     ]
    }
   ],
   "source": [
    "let mut mult_tensor = Tensor::new(&[1.0, 2.0, 3.0], &device).unwrap();\n",
    "mult_tensor = (mult_tensor * 10.0)?;\n",
    "println!(\"{}\", mult_tensor);"
   ]
  },
  {
   "cell_type": "markdown",
   "id": "1484edd1-6a61-4a8e-9f2d-cc82b32d9dee",
   "metadata": {},
   "source": [
    "Use methods to do basic operations.  These are a little more verbose..."
   ]
  },
  {
   "cell_type": "code",
   "execution_count": 40,
   "id": "3a3add82-cfde-4ec1-aba5-6ac844b6a202",
   "metadata": {},
   "outputs": [
    {
     "name": "stdout",
     "output_type": "stream",
     "text": [
      "[11., 12., 13.]\n",
      "Tensor[[3], f64]\n"
     ]
    }
   ],
   "source": [
    "let mut add_tensor = Tensor::new(&[1.0, 2.0, 3.0], &device).unwrap();\n",
    "let ten_tensor = Tensor::new(&[10., 10., 10.], &device).unwrap();\n",
    "let add_tensor = Tensor::add(&add_tensor, &ten_tensor)?;\n",
    "println!(\"{}\", add_tensor);\n"
   ]
  },
  {
   "cell_type": "markdown",
   "id": "6e651fe1-04f5-4b64-a49c-cf3f43470a35",
   "metadata": {},
   "source": [
    "### Matrix Multiplication"
   ]
  },
  {
   "cell_type": "code",
   "execution_count": 41,
   "id": "f219edc8-41cf-4a3e-b55d-b6e9e82f1f4e",
   "metadata": {},
   "outputs": [],
   "source": [
    "let tensor_A = Tensor::new(&[[1.,2.],\n",
    "                             [3.,4.],\n",
    "                             [5.,6.]], &device)?;\n",
    "let tensor_B = Tensor::new(&[[7.,10.],\n",
    "                             [8.,11.],\n",
    "                             [9.,12.]], &device)?;\n"
   ]
  },
  {
   "cell_type": "code",
   "execution_count": 42,
   "id": "ac72a35e-6c7c-4b13-adc4-791669ee02d5",
   "metadata": {},
   "outputs": [
    {
     "name": "stdout",
     "output_type": "stream",
     "text": [
      "[[1., 2.],\n",
      " [3., 4.],\n",
      " [5., 6.]]\n",
      "Tensor[[3, 2], f64]\n",
      "[[ 7., 10.],\n",
      " [ 8., 11.],\n",
      " [ 9., 12.]]\n",
      "Tensor[[3, 2], f64]\n"
     ]
    }
   ],
   "source": [
    "println!(\"{}\", tensor_A);\n",
    "println!(\"{}\", tensor_B);"
   ]
  },
  {
   "cell_type": "markdown",
   "id": "ea226c21-d971-4b90-b985-589fd7cf2d0f",
   "metadata": {},
   "source": [
    "Let's try a transpose"
   ]
  },
  {
   "cell_type": "code",
   "execution_count": 43,
   "id": "139df321-245a-4f2d-adcc-11ad3b807381",
   "metadata": {},
   "outputs": [
    {
     "name": "stdout",
     "output_type": "stream",
     "text": [
      "[[1., 2.],\n",
      " [3., 4.],\n",
      " [5., 6.]]\n",
      "Tensor[[3, 2], f64]\n",
      "[[ 7.,  8.,  9.],\n",
      " [10., 11., 12.]]\n",
      "Tensor[[2, 3], f64]\n"
     ]
    }
   ],
   "source": [
    "println!(\"{}\", tensor_A);\n",
    "println!(\"{}\", tensor_B.t()?);"
   ]
  },
  {
   "cell_type": "code",
   "execution_count": 44,
   "id": "291cac91-69cb-4eb7-82e5-e8cd0e5f16e4",
   "metadata": {},
   "outputs": [
    {
     "name": "stdout",
     "output_type": "stream",
     "text": [
      "Original shapes: tensor_A = [3, 2], tensor_B = [3, 2]\n",
      "New shapes: tensor_A = [3, 2], tensor_B = [2, 3]\n",
      "Multiplying: [3, 2] * [2, 3]\n",
      "\n",
      "Output: [[ 27.,  30.,  33.],\n",
      " [ 61.,  68.,  75.],\n",
      " [ 95., 106., 117.]]\n",
      "Tensor[[3, 3], f64]\n",
      "Output shape: [3, 3]\n"
     ]
    }
   ],
   "source": [
    "println!(\"Original shapes: tensor_A = {:?}, tensor_B = {:?}\", tensor_A.shape(), tensor_B.shape());\n",
    "println!(\"New shapes: tensor_A = {:?}, tensor_B = {:?}\", tensor_A.shape(), tensor_B.t()?.shape());\n",
    "println!(\"Multiplying: {:?} * {:?}\", tensor_A.shape(), tensor_B.t()?.shape());\n",
    "println!(\"\");\n",
    "let output = tensor_A.matmul(&tensor_B.t()?)?;\n",
    "println!(\"Output: {}\", output);\n",
    "println!(\"Output shape: {:?}\", output.shape());"
   ]
  },
  {
   "cell_type": "markdown",
   "id": "e7d67b1e-1863-49fc-b981-8aeeb39f3873",
   "metadata": {},
   "source": [
    "### Install Candle NN for Linear Layer example"
   ]
  },
  {
   "cell_type": "code",
   "execution_count": 45,
   "id": "33f5c443-557e-42a7-8857-968d7c3f87ad",
   "metadata": {},
   "outputs": [],
   "source": [
    ":dep candle-nn = \"0.9.1\""
   ]
  },
  {
   "cell_type": "code",
   "execution_count": 48,
   "id": "d50706ab-31ab-4b76-8830-7f602f44e37e",
   "metadata": {},
   "outputs": [],
   "source": [
    "\n",
    "use candle_nn::linear::{Linear, linear};\n",
    "use candle_nn::var_builder::{VarBuilder, SimpleBackend};\n",
    "use candle_nn::Module;\n",
    "use candle_nn::VarMap;"
   ]
  },
  {
   "cell_type": "markdown",
   "id": "f41d6fc2-600f-4305-9b08-602391ec9389",
   "metadata": {},
   "source": [
    "The code below is a bit tricky.  The linear function below requires something called a VarBuilder, which can be used to initialize a tensor.  The docs for creating a VarBuilder includes a lot of options on creating a VarBuilder instance.  \n",
    "\n",
    "When you look at the code for the linear function\n",
    "```rust\n",
    "let lin_layer = linear(2, 6, vb)?;\n",
    "```\n",
    "\n",
    "You'll notice that it is looking for a Tensor called 'weight'.  The key point here is that a VarBuilder will initialize a tensor if one cannot be found at the given name.  So the weights (and biases) are created as part of the call to linear."
   ]
  },
  {
   "cell_type": "code",
   "execution_count": 49,
   "id": "421b81cb-53df-49ca-a2e8-b5590d2f11da",
   "metadata": {},
   "outputs": [
    {
     "name": "stdout",
     "output_type": "stream",
     "text": [
      "Input Shape: [3, 2]\n",
      "Output Shape: [3, 6]\n",
      "Output: [[ 2.3371,  2.7822, -1.3939,  0.4214, -1.1815,  1.0250],\n",
      " [ 4.4935,  6.1451, -2.9792,  2.4429, -2.5873,  2.4457],\n",
      " [ 6.6499,  9.5081, -4.5646,  4.4644, -3.9931,  3.8664]]\n",
      "Tensor[[3, 6], f64]\n"
     ]
    }
   ],
   "source": [
    "let varmap = VarMap::new();\n",
    "let vb = VarBuilder::from_varmap(&varmap, DType::F64, &Device::Cpu);\n",
    "let lin_layer = linear(2, 6, vb)?;\n",
    "let x = tensor_A.clone();\n",
    "let lin_output = lin_layer.forward(&x)?;\n",
    "\n",
    "println!(\"Input Shape: {:?}\", x.shape());\n",
    "println!(\"Output Shape: {:?}\", lin_output.shape());\n",
    "println!(\"Output: {}\", lin_output);"
   ]
  },
  {
   "cell_type": "markdown",
   "id": "e111791f-39b1-4b49-9079-b15dcc73c314",
   "metadata": {
    "editable": true,
    "slideshow": {
     "slide_type": ""
    },
    "tags": []
   },
   "source": [
    "### Finding the min, max, mean, sum, etc (aggregation)"
   ]
  },
  {
   "cell_type": "code",
   "execution_count": 50,
   "id": "557e7c68-3216-43b1-9c64-f5f059dc8f35",
   "metadata": {},
   "outputs": [],
   "source": [
    "let x = Tensor::arange_step(0., 100., 10., &device)?;"
   ]
  },
  {
   "cell_type": "code",
   "execution_count": 51,
   "id": "6311b020-7042-4efc-acd7-b386aff3bf03",
   "metadata": {},
   "outputs": [
    {
     "name": "stdout",
     "output_type": "stream",
     "text": [
      "Minimum: [0.]\n",
      "Tensor[[], f64]\n",
      "Maximum: [90.]\n",
      "Tensor[[], f64]\n",
      "Mean: [45.]\n",
      "Tensor[[], f64]\n",
      "Sum: [450.]\n",
      "Tensor[[], f64]\n"
     ]
    }
   ],
   "source": [
    "println!(\"Minimum: {}\", x.min(0)?);\n",
    "println!(\"Maximum: {}\", x.max(0)?);\n",
    "println!(\"Mean: {}\", x.mean(0)?);\n",
    "println!(\"Sum: {}\", x.sum(0)?);"
   ]
  },
  {
   "cell_type": "markdown",
   "id": "57e45e8b-6cef-4035-907b-46a2d92a9f8e",
   "metadata": {},
   "source": [
    "### Positional min/max\n",
    "\n",
    "Continue using x from above"
   ]
  },
  {
   "cell_type": "code",
   "execution_count": 52,
   "id": "f7a4a4ce-be53-44a4-b3cd-78a3458002d2",
   "metadata": {},
   "outputs": [
    {
     "name": "stdout",
     "output_type": "stream",
     "text": [
      "Tensor: [10., 20., 30., 40., 50., 60., 70., 80., 90.]\n",
      "Tensor[[9], f64]\n",
      "\n",
      "Argmin: [0]\n",
      "Tensor[[], u32]\n",
      "\n",
      "Argmax: [8]\n",
      "Tensor[[], u32]\n",
      "\n"
     ]
    }
   ],
   "source": [
    "let x = Tensor::arange_step(10., 100., 10., &device)?;\n",
    "println!(\"Tensor: {}\\n\", x);\n",
    "println!(\"Argmin: {}\\n\", x.argmin(0)?);\n",
    "println!(\"Argmax: {}\\n\", x.argmax(0)?);"
   ]
  },
  {
   "cell_type": "markdown",
   "id": "0a208bfd-5555-4261-9182-e30e8b69c16a",
   "metadata": {},
   "source": [
    "### Reshaping, stacking, squeezing and unsqueezing"
   ]
  },
  {
   "cell_type": "markdown",
   "id": "08ae2d7b-ded2-48d2-a154-74af34e26c36",
   "metadata": {},
   "source": [
    "Let's reshape a tensor first"
   ]
  },
  {
   "cell_type": "code",
   "execution_count": 53,
   "id": "2406cfa6-cf1d-459a-bd3d-48952f0763e4",
   "metadata": {},
   "outputs": [
    {
     "name": "stdout",
     "output_type": "stream",
     "text": [
      "[1., 2., 3., 4., 5., 6., 7.]\n",
      "Tensor[[7], f64]\n",
      "Shape: [7]\n"
     ]
    }
   ],
   "source": [
    "let x = Tensor::arange(1., 8., &device)?;\n",
    "println!(\"{}\", x);\n",
    "println!(\"Shape: {:?}\", x.shape());"
   ]
  },
  {
   "cell_type": "code",
   "execution_count": 54,
   "id": "1b1e4f52-130d-4ab7-a333-8ba50605c38f",
   "metadata": {},
   "outputs": [
    {
     "name": "stdout",
     "output_type": "stream",
     "text": [
      "[[1., 2., 3., 4., 5., 6., 7.]]\n",
      "Tensor[[1, 7], f64]\n",
      "Shape: [1, 7]\n"
     ]
    }
   ],
   "source": [
    "let x_reshaped = x.reshape((1,7))?;\n",
    "println!(\"{}\", x_reshaped);\n",
    "println!(\"Shape: {:?}\", x_reshaped.shape());"
   ]
  },
  {
   "cell_type": "markdown",
   "id": "b3c79fd2-02ef-4457-9971-79d8ffafeb09",
   "metadata": {},
   "source": [
    "Stacking tensors"
   ]
  },
  {
   "cell_type": "code",
   "execution_count": 55,
   "id": "9ad865b7-920e-4be0-b24f-386161baf4d8",
   "metadata": {},
   "outputs": [],
   "source": [
    "let x = Tensor::new(&[5., 2., 3., 4., 5., 6., 7.], &device)?;"
   ]
  },
  {
   "cell_type": "code",
   "execution_count": 56,
   "id": "f4510528-f6d1-4667-a643-39eca372e5e0",
   "metadata": {},
   "outputs": [
    {
     "name": "stdout",
     "output_type": "stream",
     "text": [
      "[[5., 2., 3., 4., 5., 6., 7.],\n",
      " [5., 2., 3., 4., 5., 6., 7.],\n",
      " [5., 2., 3., 4., 5., 6., 7.],\n",
      " [5., 2., 3., 4., 5., 6., 7.]]\n",
      "Tensor[[4, 7], f64]\n",
      "Shape: [4, 7]\n"
     ]
    }
   ],
   "source": [
    "let x_stacked = Tensor::stack(&[&x, &x, &x, &x], 0)?;\n",
    "println!(\"{}\", x_stacked);\n",
    "println!(\"Shape: {:?}\", x_stacked.shape());"
   ]
  },
  {
   "cell_type": "markdown",
   "id": "37dd7b11-0c15-4fb7-b791-d8c316e5c07a",
   "metadata": {},
   "source": [
    "How about removing all single dimensions from a tensor?"
   ]
  },
  {
   "cell_type": "code",
   "execution_count": 57,
   "id": "2d110618-b5d8-450f-831b-d74faeb54dcf",
   "metadata": {},
   "outputs": [
    {
     "name": "stdout",
     "output_type": "stream",
     "text": [
      "[[1., 2., 3., 4., 5., 6., 7.]]\n",
      "Tensor[[1, 7], f64]\n",
      "\n",
      "Shape: [1, 7]\n",
      "\n",
      "[1., 2., 3., 4., 5., 6., 7.]\n",
      "Tensor[[7], f64]\n",
      "\n",
      "New Shape: [7]\n",
      "\n"
     ]
    }
   ],
   "source": [
    "println!(\"{}\\n\", x_reshaped);\n",
    "println!(\"Shape: {:?}\\n\", x_reshaped.shape());\n",
    "\n",
    "let x_squeezed = x_reshaped.squeeze(0)?;\n",
    "\n",
    "println!(\"{}\\n\", x_squeezed);\n",
    "println!(\"New Shape: {:?}\\n\", x_squeezed.shape());"
   ]
  },
  {
   "cell_type": "markdown",
   "id": "bccf62a6-945f-4e9d-ab55-44acb939b55e",
   "metadata": {},
   "source": [
    "Now unsqueeze"
   ]
  },
  {
   "cell_type": "code",
   "execution_count": 55,
   "id": "df6e10a3-ebf6-45c0-ad11-ca36ed2e0198",
   "metadata": {},
   "outputs": [
    {
     "name": "stdout",
     "output_type": "stream",
     "text": [
      "[[1., 2., 3., 4., 5., 6., 7.]]\n",
      "Tensor[[1, 7], f64]\n",
      "\n",
      "New Shape: [1, 7]\n",
      "\n"
     ]
    }
   ],
   "source": [
    "let x_unsqueezed = x_squeezed.unsqueeze(0)?;\n",
    "\n",
    "println!(\"{}\\n\", x_unsqueezed);\n",
    "println!(\"New Shape: {:?}\\n\", x_unsqueezed.shape());"
   ]
  },
  {
   "cell_type": "markdown",
   "id": "031c48bf-ac8b-4583-9bfa-f49310cf4c52",
   "metadata": {},
   "source": [
    "Permute a tensor"
   ]
  },
  {
   "cell_type": "code",
   "execution_count": 58,
   "id": "f578f41f-9ff8-4bde-9cba-2767397b7352",
   "metadata": {},
   "outputs": [
    {
     "name": "stdout",
     "output_type": "stream",
     "text": [
      "Original Shape: [224, 224, 3]\n",
      "\n",
      "New Shape: [3, 224, 224]\n",
      "\n"
     ]
    }
   ],
   "source": [
    "let x_original = Tensor::randn(0.0f32, 1.0f32, (224, 224, 3), &device)?;\n",
    "let x_permute = x_original.permute((2, 0, 1))?;\n",
    "println!(\"Original Shape: {:?}\\n\", x_original.shape());\n",
    "println!(\"New Shape: {:?}\\n\", x_permute.shape());\n"
   ]
  },
  {
   "cell_type": "markdown",
   "id": "18f759ae-938f-4a0a-88ea-dd96be73e069",
   "metadata": {},
   "source": [
    "### Indexing (selecting data from tensors)"
   ]
  },
  {
   "cell_type": "code",
   "execution_count": 59,
   "id": "f1a9afba-985c-439f-b1bd-1ba288ab110c",
   "metadata": {},
   "outputs": [],
   "source": [
    "use candle_core::{IndexOp};  //Bring IndexOp into scope"
   ]
  },
  {
   "cell_type": "code",
   "execution_count": 60,
   "id": "f97961d6-1e88-4724-aeec-4519c4cda757",
   "metadata": {},
   "outputs": [
    {
     "name": "stdout",
     "output_type": "stream",
     "text": [
      "[1., 2., 3., 4., 5., 6., 7., 8., 9.]\n",
      "Tensor[[9], f64]\n",
      "\n",
      "[[[1., 2., 3.],\n",
      "  [4., 5., 6.],\n",
      "  [7., 8., 9.]]]\n",
      "Tensor[[1, 3, 3], f64]\n",
      "\n"
     ]
    }
   ],
   "source": [
    "let x = Tensor::arange(1., 10., &device)?;\n",
    "let x_reshaped = x.reshape((1, 3, 3))?;\n",
    "println!(\"{}\\n\", x);\n",
    "println!(\"{}\\n\", x_reshaped);\n"
   ]
  },
  {
   "cell_type": "code",
   "execution_count": 61,
   "id": "f48e80b6-d1c8-4d9b-a8d1-31742d4ff02b",
   "metadata": {},
   "outputs": [
    {
     "name": "stdout",
     "output_type": "stream",
     "text": [
      "First square bracket:\n",
      " [[1., 2., 3.],\n",
      " [4., 5., 6.],\n",
      " [7., 8., 9.]]\n",
      "Tensor[[3, 3], f64]\n",
      "\n",
      "Second square bracket:\n",
      " [1., 2., 3.]\n",
      "Tensor[[3], f64]\n",
      "\n",
      "Third square bracket:\n",
      " [1.]\n",
      "Tensor[[], f64]\n",
      "\n"
     ]
    }
   ],
   "source": [
    "println!(\"First square bracket:\\n {}\\n\", x_reshaped.i(0)?);\n",
    "println!(\"Second square bracket:\\n {}\\n\", x_reshaped.i((0,0))?);\n",
    "println!(\"Third square bracket:\\n {}\\n\", x_reshaped.i((0,0,0))?);"
   ]
  },
  {
   "cell_type": "code",
   "execution_count": null,
   "id": "4bd5eadb-38cf-4a94-89ed-651e7a10d715",
   "metadata": {},
   "outputs": [],
   "source": []
  }
 ],
 "metadata": {
  "kernelspec": {
   "display_name": "Rust",
   "language": "rust",
   "name": "rust"
  },
  "language_info": {
   "codemirror_mode": "rust",
   "file_extension": ".rs",
   "mimetype": "text/rust",
   "name": "Rust",
   "pygment_lexer": "rust",
   "version": ""
  }
 },
 "nbformat": 4,
 "nbformat_minor": 5
}
